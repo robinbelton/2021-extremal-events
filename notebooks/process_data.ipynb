{
 "cells": [
  {
   "cell_type": "code",
   "execution_count": 1,
   "metadata": {},
   "outputs": [],
   "source": [
    "%run -i ../src/utilities.py"
   ]
  },
  {
   "cell_type": "code",
   "execution_count": 12,
   "metadata": {},
   "outputs": [],
   "source": [
    "data_dir = '../time-series'\n",
    "org_data_dir = f'{data_dir}/original'\n",
    "ll_data_dir = f'{data_dir}/lifeline'"
   ]
  },
  {
   "cell_type": "markdown",
   "metadata": {},
   "source": [
    "### Separate proteomics file into two replicate files"
   ]
  },
  {
   "cell_type": "code",
   "execution_count": 13,
   "metadata": {},
   "outputs": [],
   "source": [
    "wt12_prot_xls = pd.ExcelFile(f'{org_data_dir}/wt1-2_proteomics/mc-e18-04-0255-s13.xlsx')\n",
    "wt12_prot_df = pd.read_excel(wt12_prot_xls, 'heavy-light_data')\n",
    "# wt12_prot_df = pd.read_excel(wt12_prot_xls, 'max_scaled_data')"
   ]
  },
  {
   "cell_type": "code",
   "execution_count": 14,
   "metadata": {},
   "outputs": [],
   "source": [
    "for rep in ['r1', 'r2']:\n",
    "    df = wt12_prot_df[wt12_prot_df['time_points'].str.contains(rep)]\n",
    "    dirname = f'wt{rep[-1]}_proteomics'\n",
    "    if not os.path.isdir(f'{org_data_dir}/{dirname}'):\n",
    "        os.mkdir(f'{org_data_dir}/{dirname}')\n",
    "    df.to_csv(f'{org_data_dir}/{dirname}/wt{rep[-1]}_proteomics.csv', index=False)\n",
    "    \n",
    "for readme in os.listdir(f'{org_data_dir}/wt1-2_proteomics'):\n",
    "    if 'readme' in readme.lower():\n",
    "        if 'rep1' in readme:\n",
    "            os.rename(f'{org_data_dir}/wt1-2_proteomics/{readme}', f'{org_data_dir}/wt1_proteomics/{readme}')\n",
    "        elif 'rep2 in readme':\n",
    "            os.rename(f'{org_data_dir}/wt1-2_proteomics/{readme}', f'{org_data_dir}/wt2_proteomics/{readme}')"
   ]
  },
  {
   "cell_type": "markdown",
   "metadata": {},
   "source": [
    "### Add lifeline points to datasets"
   ]
  },
  {
   "cell_type": "code",
   "execution_count": 15,
   "metadata": {},
   "outputs": [],
   "source": [
    "for data_dir in os.listdir(org_data_dir):\n",
    "    if data_dir not in ['.DS_Store', 'wt1-2_proteomics']:\n",
    "        data_df = pd.DataFrame()\n",
    "        budding_index = pd.DataFrame()\n",
    "        for file in os.listdir(f'{org_data_dir}/{data_dir}'):\n",
    "            if 'readme' not in file.lower() and file not in ['.DS_Store', 'rnaseq_proc']:\n",
    "                if data_dir in ['wt1_microarray', 'wt2_microarray']:\n",
    "                    data_df = pd.read_csv(f'{org_data_dir}/{data_dir}/{file}', index_col=0, skiprows=28, sep='\\t')\n",
    "                    data_df = data_df.set_index('symbol')\n",
    "                    data_df = data_df.drop(labels=['sgd_id', 'sys_name'], axis=1)\n",
    "                if data_dir in ['wt1_proteomics', 'wt2_proteomics']:\n",
    "                    data_df = pd.read_csv(f'{org_data_dir}/{data_dir}/{file}', index_col=0, comment='#')\n",
    "                    data_df.index = data_df.index.str[:-3]\n",
    "                if data_dir == 'wt1_rnaseq':\n",
    "                    data_df = pd.read_csv(f'{org_data_dir}/{data_dir}/{file}', index_col=0, comment='#')\n",
    "                if data_dir == 'crypto_rnaseq':\n",
    "                    data_df = pd.read_csv(f'{org_data_dir}/{data_dir}/{file}', index_col=0, comment='#', sep='\\t')\n",
    "            if 'readme' in file.lower() and file != '.DS_Store':\n",
    "                if data_dir == 'crypto_rnaseq':\n",
    "                    budding_index = grab_budding_index(f'{org_data_dir}/{data_dir}/{file}', encoding='ISO-8859-1')\n",
    "                else:\n",
    "                    budding_index = grab_budding_index(f'{org_data_dir}/{data_dir}/{file}')\n",
    "        lifeline_df = data_df.T.reset_index()\n",
    "        lifeline_df = lifeline_df.rename(columns={'index': 'Clock'})\n",
    "        lifeline_df = lifeline_df.merge(budding_index, on='Clock')\n",
    "        lifeline_df = lifeline_df.set_index('Lifeline')\n",
    "        lifeline_df = lifeline_df.drop(['Total', 'Budded', 'Clock'], axis=1)\n",
    "        lifeline_df = lifeline_df.T\n",
    "        lifeline_df.index.name = 'Lifeline'\n",
    "        lifeline_df.to_csv(f'{ll_data_dir}/{data_dir}_lifeline.txt', sep='\\t')"
   ]
  },
  {
   "cell_type": "code",
   "execution_count": null,
   "metadata": {},
   "outputs": [],
   "source": []
  }
 ],
 "metadata": {
  "kernelspec": {
   "display_name": "Python 3",
   "language": "python",
   "name": "python3"
  },
  "language_info": {
   "codemirror_mode": {
    "name": "ipython",
    "version": 3
   },
   "file_extension": ".py",
   "mimetype": "text/x-python",
   "name": "python",
   "nbconvert_exporter": "python",
   "pygments_lexer": "ipython3",
   "version": "3.8.5"
  }
 },
 "nbformat": 4,
 "nbformat_minor": 4
}
